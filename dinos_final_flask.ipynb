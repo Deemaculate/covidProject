{
 "cells": [
  {
   "cell_type": "markdown",
   "metadata": {},
   "source": [
    "Dino's Flask Final "
   ]
  },
  {
   "cell_type": "markdown",
   "metadata": {},
   "source": [
    "Goal: to extract dataframes from CDC information as well as to do a simple scraping excercise\n"
   ]
  },
  {
   "cell_type": "code",
   "execution_count": 1,
   "metadata": {},
   "outputs": [],
   "source": [
    "#import the libraries so that I can make exciting graphs and dataframes\n",
    "import pandas as pd\n",
    "%matplotlib inline \n",
    "import seaborn as sns\n",
    "from matplotlib import pyplot as plt"
   ]
  },
  {
   "cell_type": "markdown",
   "metadata": {},
   "source": [
    "Web Scrape certain information I want"
   ]
  },
  {
   "cell_type": "code",
   "execution_count": 2,
   "metadata": {},
   "outputs": [
    {
     "name": "stdout",
     "output_type": "stream",
     "text": [
      "Requirement already satisfied: requests in /opt/anaconda3/lib/python3.7/site-packages (2.22.0)\n",
      "Requirement already satisfied: idna<2.9,>=2.5 in /opt/anaconda3/lib/python3.7/site-packages (from requests) (2.8)\n",
      "Requirement already satisfied: certifi>=2017.4.17 in /opt/anaconda3/lib/python3.7/site-packages (from requests) (2019.9.11)\n",
      "Requirement already satisfied: urllib3!=1.25.0,!=1.25.1,<1.26,>=1.21.1 in /opt/anaconda3/lib/python3.7/site-packages (from requests) (1.24.2)\n",
      "Requirement already satisfied: chardet<3.1.0,>=3.0.2 in /opt/anaconda3/lib/python3.7/site-packages (from requests) (3.0.4)\n",
      "Requirement already satisfied: beautifulsoup4 in /opt/anaconda3/lib/python3.7/site-packages (4.8.0)\n",
      "Requirement already satisfied: soupsieve>=1.2 in /opt/anaconda3/lib/python3.7/site-packages (from beautifulsoup4) (1.9.3)\n"
     ]
    }
   ],
   "source": [
    "#!pip install requests \n",
    "#!pip install beautifulsoup4\n",
    "#"
   ]
  },
  {
   "cell_type": "code",
   "execution_count": 40,
   "metadata": {},
   "outputs": [
    {
     "ename": "ValueError",
     "evalue": "No tables found",
     "output_type": "error",
     "traceback": [
      "\u001b[0;31m---------------------------------------------------------------------------\u001b[0m",
      "\u001b[0;31mValueError\u001b[0m                                Traceback (most recent call last)",
      "\u001b[0;32m<ipython-input-40-b33988ac6ff8>\u001b[0m in \u001b[0;36m<module>\u001b[0;34m\u001b[0m\n\u001b[1;32m      2\u001b[0m \u001b[0;31m# here I literally scraped the web for the most basic information that I needed:\u001b[0m\u001b[0;34m\u001b[0m\u001b[0;34m\u001b[0m\u001b[0;34m\u001b[0m\u001b[0m\n\u001b[1;32m      3\u001b[0m \u001b[0;31m# in  function that makes a html request into a df\u001b[0m\u001b[0;34m\u001b[0m\u001b[0;34m\u001b[0m\u001b[0;34m\u001b[0m\u001b[0m\n\u001b[0;32m----> 4\u001b[0;31m \u001b[0mpanda_scrape\u001b[0m \u001b[0;34m=\u001b[0m \u001b[0mpd\u001b[0m\u001b[0;34m.\u001b[0m\u001b[0mread_html\u001b[0m\u001b[0;34m(\u001b[0m\u001b[0;34m'https://www.cdc.gov/coronavirus/2019-ncov/cases-updates/cases-in-us.html'\u001b[0m\u001b[0;34m)\u001b[0m\u001b[0;34m[\u001b[0m\u001b[0;36m0\u001b[0m\u001b[0;34m]\u001b[0m\u001b[0;34m\u001b[0m\u001b[0;34m\u001b[0m\u001b[0m\n\u001b[0m\u001b[1;32m      5\u001b[0m \u001b[0;34m\u001b[0m\u001b[0m\n\u001b[1;32m      6\u001b[0m \u001b[0;31m#converted my panda_scrape into a csv.file\u001b[0m\u001b[0;34m\u001b[0m\u001b[0;34m\u001b[0m\u001b[0;34m\u001b[0m\u001b[0m\n",
      "\u001b[0;32m/opt/anaconda3/lib/python3.7/site-packages/pandas/io/html.py\u001b[0m in \u001b[0;36mread_html\u001b[0;34m(io, match, flavor, header, index_col, skiprows, attrs, parse_dates, thousands, encoding, decimal, converters, na_values, keep_default_na, displayed_only)\u001b[0m\n\u001b[1;32m   1103\u001b[0m         \u001b[0mna_values\u001b[0m\u001b[0;34m=\u001b[0m\u001b[0mna_values\u001b[0m\u001b[0;34m,\u001b[0m\u001b[0;34m\u001b[0m\u001b[0;34m\u001b[0m\u001b[0m\n\u001b[1;32m   1104\u001b[0m         \u001b[0mkeep_default_na\u001b[0m\u001b[0;34m=\u001b[0m\u001b[0mkeep_default_na\u001b[0m\u001b[0;34m,\u001b[0m\u001b[0;34m\u001b[0m\u001b[0;34m\u001b[0m\u001b[0m\n\u001b[0;32m-> 1105\u001b[0;31m         \u001b[0mdisplayed_only\u001b[0m\u001b[0;34m=\u001b[0m\u001b[0mdisplayed_only\u001b[0m\u001b[0;34m,\u001b[0m\u001b[0;34m\u001b[0m\u001b[0;34m\u001b[0m\u001b[0m\n\u001b[0m\u001b[1;32m   1106\u001b[0m     )\n",
      "\u001b[0;32m/opt/anaconda3/lib/python3.7/site-packages/pandas/io/html.py\u001b[0m in \u001b[0;36m_parse\u001b[0;34m(flavor, io, match, attrs, encoding, displayed_only, **kwargs)\u001b[0m\n\u001b[1;32m    910\u001b[0m             \u001b[0;32mbreak\u001b[0m\u001b[0;34m\u001b[0m\u001b[0;34m\u001b[0m\u001b[0m\n\u001b[1;32m    911\u001b[0m     \u001b[0;32melse\u001b[0m\u001b[0;34m:\u001b[0m\u001b[0;34m\u001b[0m\u001b[0;34m\u001b[0m\u001b[0m\n\u001b[0;32m--> 912\u001b[0;31m         \u001b[0mraise_with_traceback\u001b[0m\u001b[0;34m(\u001b[0m\u001b[0mretained\u001b[0m\u001b[0;34m)\u001b[0m\u001b[0;34m\u001b[0m\u001b[0;34m\u001b[0m\u001b[0m\n\u001b[0m\u001b[1;32m    913\u001b[0m \u001b[0;34m\u001b[0m\u001b[0m\n\u001b[1;32m    914\u001b[0m     \u001b[0mret\u001b[0m \u001b[0;34m=\u001b[0m \u001b[0;34m[\u001b[0m\u001b[0;34m]\u001b[0m\u001b[0;34m\u001b[0m\u001b[0;34m\u001b[0m\u001b[0m\n",
      "\u001b[0;32m/opt/anaconda3/lib/python3.7/site-packages/pandas/compat/__init__.py\u001b[0m in \u001b[0;36mraise_with_traceback\u001b[0;34m(exc, traceback)\u001b[0m\n\u001b[1;32m     44\u001b[0m     \u001b[0;32mif\u001b[0m \u001b[0mtraceback\u001b[0m \u001b[0;34m==\u001b[0m \u001b[0mEllipsis\u001b[0m\u001b[0;34m:\u001b[0m\u001b[0;34m\u001b[0m\u001b[0;34m\u001b[0m\u001b[0m\n\u001b[1;32m     45\u001b[0m         \u001b[0m_\u001b[0m\u001b[0;34m,\u001b[0m \u001b[0m_\u001b[0m\u001b[0;34m,\u001b[0m \u001b[0mtraceback\u001b[0m \u001b[0;34m=\u001b[0m \u001b[0msys\u001b[0m\u001b[0;34m.\u001b[0m\u001b[0mexc_info\u001b[0m\u001b[0;34m(\u001b[0m\u001b[0;34m)\u001b[0m\u001b[0;34m\u001b[0m\u001b[0;34m\u001b[0m\u001b[0m\n\u001b[0;32m---> 46\u001b[0;31m     \u001b[0;32mraise\u001b[0m \u001b[0mexc\u001b[0m\u001b[0;34m.\u001b[0m\u001b[0mwith_traceback\u001b[0m\u001b[0;34m(\u001b[0m\u001b[0mtraceback\u001b[0m\u001b[0;34m)\u001b[0m\u001b[0;34m\u001b[0m\u001b[0;34m\u001b[0m\u001b[0m\n\u001b[0m\u001b[1;32m     47\u001b[0m \u001b[0;34m\u001b[0m\u001b[0m\n\u001b[1;32m     48\u001b[0m \u001b[0;34m\u001b[0m\u001b[0m\n",
      "\u001b[0;31mValueError\u001b[0m: No tables found"
     ]
    }
   ],
   "source": [
    "#this is the most basic type of scraping\n",
    "# here I literally scraped the web for the most basic information that I needed:\n",
    "# in  function that makes a html request into a df\n",
    "panda_scrape = pd.read_html('https://www.cdc.gov/coronavirus/2019-ncov/cases-updates/cases-in-us.html')[0]\n",
    "\n",
    "#converted my panda_scrape into a csv.file\n",
    "panda_scrape.to_csv('covid_deaths_peek', index=False)\n"
   ]
  },
  {
   "cell_type": "code",
   "execution_count": 4,
   "metadata": {},
   "outputs": [
    {
     "data": {
      "text/html": [
       "<div>\n",
       "<style scoped>\n",
       "    .dataframe tbody tr th:only-of-type {\n",
       "        vertical-align: middle;\n",
       "    }\n",
       "\n",
       "    .dataframe tbody tr th {\n",
       "        vertical-align: top;\n",
       "    }\n",
       "\n",
       "    .dataframe thead tr th {\n",
       "        text-align: left;\n",
       "    }\n",
       "</style>\n",
       "<table border=\"1\" class=\"dataframe\">\n",
       "  <thead>\n",
       "    <tr>\n",
       "      <th></th>\n",
       "      <th>Unnamed: 0_level_0</th>\n",
       "      <th colspan=\"7\" halign=\"left\">No. of cases (% of total)</th>\n",
       "    </tr>\n",
       "    <tr>\n",
       "      <th></th>\n",
       "      <th>Age group (years)</th>\n",
       "      <th>&lt; 18</th>\n",
       "      <th>18-44</th>\n",
       "      <th>45-64</th>\n",
       "      <th>65-74</th>\n",
       "      <th>75+</th>\n",
       "      <th>Unknown</th>\n",
       "      <th>Total</th>\n",
       "    </tr>\n",
       "  </thead>\n",
       "  <tbody>\n",
       "    <tr>\n",
       "      <td>0</td>\n",
       "      <td>Totals</td>\n",
       "      <td>17982</td>\n",
       "      <td>293921</td>\n",
       "      <td>288284</td>\n",
       "      <td>89947</td>\n",
       "      <td>102578</td>\n",
       "      <td>54280</td>\n",
       "      <td>846992</td>\n",
       "    </tr>\n",
       "    <tr>\n",
       "      <td>1</td>\n",
       "      <td>Race missing/unspecified</td>\n",
       "      <td>12,029(66.9%)</td>\n",
       "      <td>184,245(62.7%)</td>\n",
       "      <td>168,910(58.6%)</td>\n",
       "      <td>43,812(48.7%)</td>\n",
       "      <td>42,020(41.0%)</td>\n",
       "      <td>17,986(33.1%)</td>\n",
       "      <td>469,002(55.4%)</td>\n",
       "    </tr>\n",
       "    <tr>\n",
       "      <td>2</td>\n",
       "      <td>Race specified</td>\n",
       "      <td>5,953(33.1%)</td>\n",
       "      <td>109,676(37.3%)</td>\n",
       "      <td>119,374(41.4%)</td>\n",
       "      <td>46,135(51.3%)</td>\n",
       "      <td>60,558(59.0%)</td>\n",
       "      <td>36,294(66.9%)</td>\n",
       "      <td>377,990(44.6%)</td>\n",
       "    </tr>\n",
       "    <tr>\n",
       "      <td>3</td>\n",
       "      <td>Among those with race specified</td>\n",
       "      <td>Among those with race specified</td>\n",
       "      <td>Among those with race specified</td>\n",
       "      <td>Among those with race specified</td>\n",
       "      <td>Among those with race specified</td>\n",
       "      <td>Among those with race specified</td>\n",
       "      <td>Among those with race specified</td>\n",
       "      <td>Among those with race specified</td>\n",
       "    </tr>\n",
       "    <tr>\n",
       "      <td>4</td>\n",
       "      <td>American Indian or Alaska Native</td>\n",
       "      <td>102(1.7%)</td>\n",
       "      <td>1,036(0.9%)</td>\n",
       "      <td>879(0.7%)</td>\n",
       "      <td>239(0.5%)</td>\n",
       "      <td>158(0.3%)</td>\n",
       "      <td>139(0.4%)</td>\n",
       "      <td>2,553(0.7%)</td>\n",
       "    </tr>\n",
       "    <tr>\n",
       "      <td>5</td>\n",
       "      <td>Asian</td>\n",
       "      <td>270(4.5%)</td>\n",
       "      <td>5,758(5.3%)</td>\n",
       "      <td>6,264(5.2%)</td>\n",
       "      <td>2,103(4.6%)</td>\n",
       "      <td>2,230(3.7%)</td>\n",
       "      <td>1,736(4.8%)</td>\n",
       "      <td>18,361(4.9%)</td>\n",
       "    </tr>\n",
       "    <tr>\n",
       "      <td>6</td>\n",
       "      <td>Black or African American</td>\n",
       "      <td>1,410(23.7%)</td>\n",
       "      <td>30,310(27.6%)</td>\n",
       "      <td>37,152(31.1%)</td>\n",
       "      <td>14,748(32.0%)</td>\n",
       "      <td>13,166(21.7%)</td>\n",
       "      <td>11,708(32.3%)</td>\n",
       "      <td>108,494(28.7%)</td>\n",
       "    </tr>\n",
       "    <tr>\n",
       "      <td>7</td>\n",
       "      <td>Native Hawaiian or other Pacific Islander</td>\n",
       "      <td>38(0.6%)</td>\n",
       "      <td>449(0.4%)</td>\n",
       "      <td>340(0.3%)</td>\n",
       "      <td>102(0.2%)</td>\n",
       "      <td>67(0.1%)</td>\n",
       "      <td>78(0.2%)</td>\n",
       "      <td>1,074(0.3%)</td>\n",
       "    </tr>\n",
       "    <tr>\n",
       "      <td>8</td>\n",
       "      <td>White</td>\n",
       "      <td>2,990(50.2%)</td>\n",
       "      <td>54,510(49.7%)</td>\n",
       "      <td>58,631(49.1%)</td>\n",
       "      <td>24,419(52.9%)</td>\n",
       "      <td>40,353(66.6%)</td>\n",
       "      <td>15,888(43.8%)</td>\n",
       "      <td>196,791(52.1%)</td>\n",
       "    </tr>\n",
       "    <tr>\n",
       "      <td>9</td>\n",
       "      <td>Multiple/other</td>\n",
       "      <td>1,143(19.2%)</td>\n",
       "      <td>17,613(16.1%)</td>\n",
       "      <td>16,108(13.5%)</td>\n",
       "      <td>4,524(9.8%)</td>\n",
       "      <td>4,584(7.6%)</td>\n",
       "      <td>6,745(18.6%)</td>\n",
       "      <td>50,717(13.4%)</td>\n",
       "    </tr>\n",
       "    <tr>\n",
       "      <td>10</td>\n",
       "      <td>NaN</td>\n",
       "      <td>NaN</td>\n",
       "      <td>NaN</td>\n",
       "      <td>NaN</td>\n",
       "      <td>NaN</td>\n",
       "      <td>NaN</td>\n",
       "      <td>NaN</td>\n",
       "      <td>NaN</td>\n",
       "    </tr>\n",
       "    <tr>\n",
       "      <td>11</td>\n",
       "      <td>Ethnicity missing/unspecified</td>\n",
       "      <td>11,840(65.8%)</td>\n",
       "      <td>191,480(65.1%)</td>\n",
       "      <td>180,261(62.5%)</td>\n",
       "      <td>50,168(55.8%)</td>\n",
       "      <td>52,894(51.6%)</td>\n",
       "      <td>21,402(39.4%)</td>\n",
       "      <td>508,045(60.0%)</td>\n",
       "    </tr>\n",
       "    <tr>\n",
       "      <td>12</td>\n",
       "      <td>Ethnicity specified</td>\n",
       "      <td>6,142(34.2%)</td>\n",
       "      <td>102,441(34.9%)</td>\n",
       "      <td>108,023(37.5%)</td>\n",
       "      <td>39,779(44.2%)</td>\n",
       "      <td>49,684(48.4%)</td>\n",
       "      <td>32,878(60.6%)</td>\n",
       "      <td>338,947(40.0%)</td>\n",
       "    </tr>\n",
       "    <tr>\n",
       "      <td>13</td>\n",
       "      <td>Among those with ethnicity specified</td>\n",
       "      <td>Among those with ethnicity specified</td>\n",
       "      <td>Among those with ethnicity specified</td>\n",
       "      <td>Among those with ethnicity specified</td>\n",
       "      <td>Among those with ethnicity specified</td>\n",
       "      <td>Among those with ethnicity specified</td>\n",
       "      <td>Among those with ethnicity specified</td>\n",
       "      <td>Among those with ethnicity specified</td>\n",
       "    </tr>\n",
       "    <tr>\n",
       "      <td>14</td>\n",
       "      <td>Hispanic/Latino</td>\n",
       "      <td>2,427(39.5%)</td>\n",
       "      <td>32,272(31.5%)</td>\n",
       "      <td>27,243(25.2%)</td>\n",
       "      <td>7,022(17.7%)</td>\n",
       "      <td>6,371(12.8%)</td>\n",
       "      <td>10,393(31.6%)</td>\n",
       "      <td>85,728(25.3%)</td>\n",
       "    </tr>\n",
       "    <tr>\n",
       "      <td>15</td>\n",
       "      <td>Non-Hispanic/Latino</td>\n",
       "      <td>3,715(60.5%)</td>\n",
       "      <td>70,169(68.5%)</td>\n",
       "      <td>80,780(74.8%)</td>\n",
       "      <td>32,757(82.3%)</td>\n",
       "      <td>43,313(87.2%)</td>\n",
       "      <td>22,485(68.4%)</td>\n",
       "      <td>253,219(74.7%)</td>\n",
       "    </tr>\n",
       "  </tbody>\n",
       "</table>\n",
       "</div>"
      ],
      "text/plain": [
       "                           Unnamed: 0_level_0  \\\n",
       "                            Age group (years)   \n",
       "0                                      Totals   \n",
       "1                    Race missing/unspecified   \n",
       "2                              Race specified   \n",
       "3             Among those with race specified   \n",
       "4            American Indian or Alaska Native   \n",
       "5                                       Asian   \n",
       "6                   Black or African American   \n",
       "7   Native Hawaiian or other Pacific Islander   \n",
       "8                                       White   \n",
       "9                              Multiple/other   \n",
       "10                                        NaN   \n",
       "11              Ethnicity missing/unspecified   \n",
       "12                        Ethnicity specified   \n",
       "13       Among those with ethnicity specified   \n",
       "14                            Hispanic/Latino   \n",
       "15                        Non-Hispanic/Latino   \n",
       "\n",
       "               No. of cases (% of total)  \\\n",
       "                                    < 18   \n",
       "0                                  17982   \n",
       "1                          12,029(66.9%)   \n",
       "2                           5,953(33.1%)   \n",
       "3        Among those with race specified   \n",
       "4                              102(1.7%)   \n",
       "5                              270(4.5%)   \n",
       "6                           1,410(23.7%)   \n",
       "7                               38(0.6%)   \n",
       "8                           2,990(50.2%)   \n",
       "9                           1,143(19.2%)   \n",
       "10                                   NaN   \n",
       "11                         11,840(65.8%)   \n",
       "12                          6,142(34.2%)   \n",
       "13  Among those with ethnicity specified   \n",
       "14                          2,427(39.5%)   \n",
       "15                          3,715(60.5%)   \n",
       "\n",
       "                                          \\\n",
       "                                   18-44   \n",
       "0                                 293921   \n",
       "1                         184,245(62.7%)   \n",
       "2                         109,676(37.3%)   \n",
       "3        Among those with race specified   \n",
       "4                            1,036(0.9%)   \n",
       "5                            5,758(5.3%)   \n",
       "6                          30,310(27.6%)   \n",
       "7                              449(0.4%)   \n",
       "8                          54,510(49.7%)   \n",
       "9                          17,613(16.1%)   \n",
       "10                                   NaN   \n",
       "11                        191,480(65.1%)   \n",
       "12                        102,441(34.9%)   \n",
       "13  Among those with ethnicity specified   \n",
       "14                         32,272(31.5%)   \n",
       "15                         70,169(68.5%)   \n",
       "\n",
       "                                          \\\n",
       "                                   45-64   \n",
       "0                                 288284   \n",
       "1                         168,910(58.6%)   \n",
       "2                         119,374(41.4%)   \n",
       "3        Among those with race specified   \n",
       "4                              879(0.7%)   \n",
       "5                            6,264(5.2%)   \n",
       "6                          37,152(31.1%)   \n",
       "7                              340(0.3%)   \n",
       "8                          58,631(49.1%)   \n",
       "9                          16,108(13.5%)   \n",
       "10                                   NaN   \n",
       "11                        180,261(62.5%)   \n",
       "12                        108,023(37.5%)   \n",
       "13  Among those with ethnicity specified   \n",
       "14                         27,243(25.2%)   \n",
       "15                         80,780(74.8%)   \n",
       "\n",
       "                                          \\\n",
       "                                   65-74   \n",
       "0                                  89947   \n",
       "1                          43,812(48.7%)   \n",
       "2                          46,135(51.3%)   \n",
       "3        Among those with race specified   \n",
       "4                              239(0.5%)   \n",
       "5                            2,103(4.6%)   \n",
       "6                          14,748(32.0%)   \n",
       "7                              102(0.2%)   \n",
       "8                          24,419(52.9%)   \n",
       "9                            4,524(9.8%)   \n",
       "10                                   NaN   \n",
       "11                         50,168(55.8%)   \n",
       "12                         39,779(44.2%)   \n",
       "13  Among those with ethnicity specified   \n",
       "14                          7,022(17.7%)   \n",
       "15                         32,757(82.3%)   \n",
       "\n",
       "                                          \\\n",
       "                                     75+   \n",
       "0                                 102578   \n",
       "1                          42,020(41.0%)   \n",
       "2                          60,558(59.0%)   \n",
       "3        Among those with race specified   \n",
       "4                              158(0.3%)   \n",
       "5                            2,230(3.7%)   \n",
       "6                          13,166(21.7%)   \n",
       "7                               67(0.1%)   \n",
       "8                          40,353(66.6%)   \n",
       "9                            4,584(7.6%)   \n",
       "10                                   NaN   \n",
       "11                         52,894(51.6%)   \n",
       "12                         49,684(48.4%)   \n",
       "13  Among those with ethnicity specified   \n",
       "14                          6,371(12.8%)   \n",
       "15                         43,313(87.2%)   \n",
       "\n",
       "                                                                                \n",
       "                                 Unknown                                 Total  \n",
       "0                                  54280                                846992  \n",
       "1                          17,986(33.1%)                        469,002(55.4%)  \n",
       "2                          36,294(66.9%)                        377,990(44.6%)  \n",
       "3        Among those with race specified       Among those with race specified  \n",
       "4                              139(0.4%)                           2,553(0.7%)  \n",
       "5                            1,736(4.8%)                          18,361(4.9%)  \n",
       "6                          11,708(32.3%)                        108,494(28.7%)  \n",
       "7                               78(0.2%)                           1,074(0.3%)  \n",
       "8                          15,888(43.8%)                        196,791(52.1%)  \n",
       "9                           6,745(18.6%)                         50,717(13.4%)  \n",
       "10                                   NaN                                   NaN  \n",
       "11                         21,402(39.4%)                        508,045(60.0%)  \n",
       "12                         32,878(60.6%)                        338,947(40.0%)  \n",
       "13  Among those with ethnicity specified  Among those with ethnicity specified  \n",
       "14                         10,393(31.6%)                         85,728(25.3%)  \n",
       "15                         22,485(68.4%)                        253,219(74.7%)  "
      ]
     },
     "execution_count": 4,
     "metadata": {},
     "output_type": "execute_result"
    }
   ],
   "source": [
    "panda_scrape_df=pd.DataFrame(panda_scrape)\n",
    "panda_scrape_df\n"
   ]
  },
  {
   "cell_type": "code",
   "execution_count": 41,
   "metadata": {},
   "outputs": [],
   "source": [
    "   covid_flu= {\"Continent\": [\"World\", \"USA,\", \"EUR\",\"ASA\",\"AFCA\", \"Ant\", \"S.America\", \"Aus\"],\n",
    "            'Covid_Deaths': [239236, 65605, 55000, 280000, 62131, 0, 15351, 97], \n",
    "            'Flu_Deaths': [650000, 62000,72000, 92000 ,150000 , 89000, 14000, 44000]}\n"
   ]
  },
  {
   "cell_type": "code",
   "execution_count": 42,
   "metadata": {},
   "outputs": [],
   "source": [
    "\n",
    "covid_flu= pd.DataFrame.from_dict(covid_flu)\n",
    "\n",
    "\n"
   ]
  },
  {
   "cell_type": "code",
   "execution_count": 43,
   "metadata": {},
   "outputs": [],
   "source": [
    "covid_flu = covid_flu.melt(id_vars=\"Continent\")\n"
   ]
  },
  {
   "cell_type": "code",
   "execution_count": 53,
   "metadata": {},
   "outputs": [
    {
     "data": {
      "text/html": [
       "<div>\n",
       "<style scoped>\n",
       "    .dataframe tbody tr th:only-of-type {\n",
       "        vertical-align: middle;\n",
       "    }\n",
       "\n",
       "    .dataframe tbody tr th {\n",
       "        vertical-align: top;\n",
       "    }\n",
       "\n",
       "    .dataframe thead th {\n",
       "        text-align: right;\n",
       "    }\n",
       "</style>\n",
       "<table border=\"1\" class=\"dataframe\">\n",
       "  <thead>\n",
       "    <tr style=\"text-align: right;\">\n",
       "      <th></th>\n",
       "      <th>Continent</th>\n",
       "      <th>variable</th>\n",
       "      <th>value</th>\n",
       "    </tr>\n",
       "  </thead>\n",
       "  <tbody>\n",
       "    <tr>\n",
       "      <td>0</td>\n",
       "      <td>World</td>\n",
       "      <td>Covid_Deaths</td>\n",
       "      <td>239236</td>\n",
       "    </tr>\n",
       "    <tr>\n",
       "      <td>1</td>\n",
       "      <td>USA,</td>\n",
       "      <td>Covid_Deaths</td>\n",
       "      <td>65605</td>\n",
       "    </tr>\n",
       "    <tr>\n",
       "      <td>2</td>\n",
       "      <td>EUR</td>\n",
       "      <td>Covid_Deaths</td>\n",
       "      <td>55000</td>\n",
       "    </tr>\n",
       "    <tr>\n",
       "      <td>3</td>\n",
       "      <td>ASA</td>\n",
       "      <td>Covid_Deaths</td>\n",
       "      <td>280000</td>\n",
       "    </tr>\n",
       "    <tr>\n",
       "      <td>4</td>\n",
       "      <td>AFCA</td>\n",
       "      <td>Covid_Deaths</td>\n",
       "      <td>62131</td>\n",
       "    </tr>\n",
       "    <tr>\n",
       "      <td>5</td>\n",
       "      <td>Ant</td>\n",
       "      <td>Covid_Deaths</td>\n",
       "      <td>0</td>\n",
       "    </tr>\n",
       "    <tr>\n",
       "      <td>6</td>\n",
       "      <td>S.America</td>\n",
       "      <td>Covid_Deaths</td>\n",
       "      <td>15351</td>\n",
       "    </tr>\n",
       "    <tr>\n",
       "      <td>7</td>\n",
       "      <td>Aus</td>\n",
       "      <td>Covid_Deaths</td>\n",
       "      <td>97</td>\n",
       "    </tr>\n",
       "    <tr>\n",
       "      <td>8</td>\n",
       "      <td>World</td>\n",
       "      <td>Flu_Deaths</td>\n",
       "      <td>650000</td>\n",
       "    </tr>\n",
       "    <tr>\n",
       "      <td>9</td>\n",
       "      <td>USA,</td>\n",
       "      <td>Flu_Deaths</td>\n",
       "      <td>62000</td>\n",
       "    </tr>\n",
       "    <tr>\n",
       "      <td>10</td>\n",
       "      <td>EUR</td>\n",
       "      <td>Flu_Deaths</td>\n",
       "      <td>72000</td>\n",
       "    </tr>\n",
       "    <tr>\n",
       "      <td>11</td>\n",
       "      <td>ASA</td>\n",
       "      <td>Flu_Deaths</td>\n",
       "      <td>920000</td>\n",
       "    </tr>\n",
       "    <tr>\n",
       "      <td>12</td>\n",
       "      <td>AFCA</td>\n",
       "      <td>Flu_Deaths</td>\n",
       "      <td>150000</td>\n",
       "    </tr>\n",
       "    <tr>\n",
       "      <td>13</td>\n",
       "      <td>Ant</td>\n",
       "      <td>Flu_Deaths</td>\n",
       "      <td>89000</td>\n",
       "    </tr>\n",
       "    <tr>\n",
       "      <td>14</td>\n",
       "      <td>S.America</td>\n",
       "      <td>Flu_Deaths</td>\n",
       "      <td>14000</td>\n",
       "    </tr>\n",
       "    <tr>\n",
       "      <td>15</td>\n",
       "      <td>Aus</td>\n",
       "      <td>Flu_Deaths</td>\n",
       "      <td>44000</td>\n",
       "    </tr>\n",
       "  </tbody>\n",
       "</table>\n",
       "</div>"
      ],
      "text/plain": [
       "    Continent      variable   value\n",
       "0       World  Covid_Deaths  239236\n",
       "1        USA,  Covid_Deaths   65605\n",
       "2         EUR  Covid_Deaths   55000\n",
       "3         ASA  Covid_Deaths  280000\n",
       "4        AFCA  Covid_Deaths   62131\n",
       "5         Ant  Covid_Deaths       0\n",
       "6   S.America  Covid_Deaths   15351\n",
       "7         Aus  Covid_Deaths      97\n",
       "8       World    Flu_Deaths  650000\n",
       "9        USA,    Flu_Deaths   62000\n",
       "10        EUR    Flu_Deaths   72000\n",
       "11        ASA    Flu_Deaths  920000\n",
       "12       AFCA    Flu_Deaths  150000\n",
       "13        Ant    Flu_Deaths   89000\n",
       "14  S.America    Flu_Deaths   14000\n",
       "15        Aus    Flu_Deaths   44000"
      ]
     },
     "execution_count": 53,
     "metadata": {},
     "output_type": "execute_result"
    }
   ],
   "source": [
    "covid_flu"
   ]
  },
  {
   "cell_type": "code",
   "execution_count": 44,
   "metadata": {},
   "outputs": [
    {
     "data": {
      "text/plain": [
       "<matplotlib.axes._subplots.AxesSubplot at 0x1a17c39750>"
      ]
     },
     "execution_count": 44,
     "metadata": {},
     "output_type": "execute_result"
    },
    {
     "data": {
      "image/png": "[encoded data removed]",
      "text/plain": [
       "<Figure size 432x288 with 1 Axes>"
      ]
     },
     "metadata": {
      "needs_background": "light"
     },
     "output_type": "display_data"
    }
   ],
   "source": [
    "sns.barplot(data=covid_flu, x = \"Continent\", y =\"value\", hue = \"variable\")"
   ]
  },
  {
   "cell_type": "code",
   "execution_count": 55,
   "metadata": {},
   "outputs": [
    {
     "name": "stdout",
     "output_type": "stream",
     "text": [
      "   Covid_Deaths  Flu_Deaths  Continent\n",
      "0         65605       62000       USA,\n",
      "1         55000       72000       Euro\n",
      "2        280000           2        Asa\n",
      "3         62131           1        Afr\n",
      "4             0           1  Antartica\n",
      "5         15351           9        S.A\n",
      "6            97           9        Aus\n"
     ]
    }
   ],
   "source": [
    "\n",
    "   \n",
    "Data = {\"Continent\": [ \"USA,\", \"Euro\",\"Asa\",\"Afr\", \"Antartica\", \"S.A\", \"Aus\"],\n",
    "            'Covid_Deaths': [65605, 55000, 280000, 62131, 0,  15351 ,97 ], \n",
    "            'Flu_Deaths': [ 62000,72000, 2 ,1 ,1, 9, 9]}\n",
    "df = pd.DataFrame(Data,columns=['Covid_Deaths','Flu_Deaths',\"Continent\"])\n",
    "print (df)\n",
    "\n",
    "\n",
    "  \n"
   ]
  },
  {
   "cell_type": "code",
   "execution_count": 56,
   "metadata": {},
   "outputs": [
    {
     "data": {
      "text/plain": [
       "RangeIndex(start=0, stop=7, step=1)"
      ]
     },
     "execution_count": 56,
     "metadata": {},
     "output_type": "execute_result"
    }
   ],
   "source": [
    "df.index\n"
   ]
  },
  {
   "cell_type": "code",
   "execution_count": 57,
   "metadata": {},
   "outputs": [
    {
     "data": {
      "text/plain": [
       "<bound method DataFrame.info of    Covid_Deaths  Flu_Deaths  Continent\n",
       "0         65605       62000       USA,\n",
       "1         55000       72000       Euro\n",
       "2        280000           2        Asa\n",
       "3         62131           1        Afr\n",
       "4             0           1  Antartica\n",
       "5         15351           9        S.A\n",
       "6            97           9        Aus>"
      ]
     },
     "execution_count": 57,
     "metadata": {},
     "output_type": "execute_result"
    }
   ],
   "source": [
    "df.info"
   ]
  },
  {
   "cell_type": "code",
   "execution_count": 58,
   "metadata": {},
   "outputs": [
    {
     "data": {
      "text/html": [
       "<div>\n",
       "<style scoped>\n",
       "    .dataframe tbody tr th:only-of-type {\n",
       "        vertical-align: middle;\n",
       "    }\n",
       "\n",
       "    .dataframe tbody tr th {\n",
       "        vertical-align: top;\n",
       "    }\n",
       "\n",
       "    .dataframe thead th {\n",
       "        text-align: right;\n",
       "    }\n",
       "</style>\n",
       "<table border=\"1\" class=\"dataframe\">\n",
       "  <thead>\n",
       "    <tr style=\"text-align: right;\">\n",
       "      <th></th>\n",
       "      <th>Covid_Deaths</th>\n",
       "      <th>Flu_Deaths</th>\n",
       "    </tr>\n",
       "    <tr>\n",
       "      <th>Continent</th>\n",
       "      <th></th>\n",
       "      <th></th>\n",
       "    </tr>\n",
       "  </thead>\n",
       "  <tbody>\n",
       "    <tr>\n",
       "      <td>USA,</td>\n",
       "      <td>65605</td>\n",
       "      <td>62000</td>\n",
       "    </tr>\n",
       "    <tr>\n",
       "      <td>Euro</td>\n",
       "      <td>55000</td>\n",
       "      <td>72000</td>\n",
       "    </tr>\n",
       "    <tr>\n",
       "      <td>Asa</td>\n",
       "      <td>280000</td>\n",
       "      <td>2</td>\n",
       "    </tr>\n",
       "    <tr>\n",
       "      <td>Afr</td>\n",
       "      <td>62131</td>\n",
       "      <td>1</td>\n",
       "    </tr>\n",
       "    <tr>\n",
       "      <td>Antartica</td>\n",
       "      <td>0</td>\n",
       "      <td>1</td>\n",
       "    </tr>\n",
       "    <tr>\n",
       "      <td>S.A</td>\n",
       "      <td>15351</td>\n",
       "      <td>9</td>\n",
       "    </tr>\n",
       "    <tr>\n",
       "      <td>Aus</td>\n",
       "      <td>97</td>\n",
       "      <td>9</td>\n",
       "    </tr>\n",
       "  </tbody>\n",
       "</table>\n",
       "</div>"
      ],
      "text/plain": [
       "           Covid_Deaths  Flu_Deaths\n",
       "Continent                          \n",
       "USA,              65605       62000\n",
       "Euro              55000       72000\n",
       "Asa              280000           2\n",
       "Afr               62131           1\n",
       "Antartica             0           1\n",
       "S.A               15351           9\n",
       "Aus                  97           9"
      ]
     },
     "execution_count": 58,
     "metadata": {},
     "output_type": "execute_result"
    }
   ],
   "source": [
    "df.set_index(\"Continent\")"
   ]
  },
  {
   "cell_type": "code",
   "execution_count": 59,
   "metadata": {},
   "outputs": [
    {
     "data": {
      "text/plain": [
       "<matplotlib.axes._subplots.AxesSubplot at 0x1a18df4c90>"
      ]
     },
     "execution_count": 59,
     "metadata": {},
     "output_type": "execute_result"
    },
    {
     "data": {
      "image/png": "[encoded data removed]",
      "text/plain": [
       "<Figure size 432x288 with 1 Axes>"
      ]
     },
     "metadata": {
      "needs_background": "light"
     },
     "output_type": "display_data"
    }
   ],
   "source": [
    "df.plot(x ='Covid_Deaths',  y='Flu_Deaths', kind = 'bar')\t"
   ]
  },
  {
   "cell_type": "code",
   "execution_count": 60,
   "metadata": {},
   "outputs": [],
   "source": [
    "df.index=df.Continent"
   ]
  },
  {
   "cell_type": "code",
   "execution_count": 65,
   "metadata": {},
   "outputs": [
    {
     "data": {
      "text/plain": [
       "<matplotlib.axes._subplots.AxesSubplot at 0x1a17b75590>"
      ]
     },
     "execution_count": 65,
     "metadata": {},
     "output_type": "execute_result"
    },
    {
     "data": {
      "image/png": "[encoded data removed]",
      "text/plain": [
       "<Figure size 360x360 with 1 Axes>"
      ]
     },
     "metadata": {},
     "output_type": "display_data"
    }
   ],
   "source": [
    "df.plot.pie(y='Covid_Deaths',figsize=(5, 5),autopct='%1.1f%%', startangle=100000)"
   ]
  },
  {
   "cell_type": "code",
   "execution_count": null,
   "metadata": {},
   "outputs": [],
   "source": [
    "df.plot.pie(y='Flu_Deaths',figsize=(5, 5),autopct='%1.1f%%', startangle=90)"
   ]
  },
  {
   "cell_type": "code",
   "execution_count": null,
   "metadata": {},
   "outputs": [],
   "source": [
    "panda_scrape_df.head(1)\n",
    "\n"
   ]
  },
  {
   "cell_type": "code",
   "execution_count": null,
   "metadata": {},
   "outputs": [],
   "source": [
    "https://www.google.com/search?q=how+many+people+in+the+us+have+died+of+coronavirus&rlz=1C5CHFA_enUS851US852&oq=how+many+people+in+the+us+hav&aqs=chrome.7.0j69i57j0l6.10289j0j7&sourceid=chrome&ie=UTF-8"
   ]
  },
  {
   "cell_type": "code",
   "execution_count": null,
   "metadata": {},
   "outputs": [],
   "source": [
    "https://www.google.com/search?q=how+many+people+die+off+the+flu+worldwide+according+to+cdc&rlz=1C5CHFA_enUS851US852&oq=how+many+people+die+off+the+flu+worldwide+according+to+cdc&aqs=chrome..69i57.9080j0j7&sourceid=chrome&ie=UTF-8"
   ]
  },
  {
   "cell_type": "code",
   "execution_count": null,
   "metadata": {},
   "outputs": [],
   "source": [
    "new_plot=panda_scrape_df.head(1)"
   ]
  },
  {
   "cell_type": "code",
   "execution_count": null,
   "metadata": {},
   "outputs": [],
   "source": [
    "new_plot.plot.bar(x=\"\", y=\"Visits\", rot=70, title=\"Number of tourist visits - Year 2018\");\n",
    "\n",
    "plot.show(block=True);"
   ]
  },
  {
   "cell_type": "code",
   "execution_count": null,
   "metadata": {},
   "outputs": [],
   "source": [
    "#literally importing a function that can request URLS from World Wide Web\n",
    "import requests"
   ]
  },
  {
   "cell_type": "code",
   "execution_count": null,
   "metadata": {},
   "outputs": [],
   "source": [
    "response = requests.get(\"https://www.cdc.gov/flu/about/burden/preliminary-in-season-estimates.htm\")"
   ]
  },
  {
   "cell_type": "code",
   "execution_count": null,
   "metadata": {},
   "outputs": [],
   "source": [
    "\n",
    "\n",
    "response.url"
   ]
  },
  {
   "cell_type": "code",
   "execution_count": null,
   "metadata": {
    "scrolled": false
   },
   "outputs": [],
   "source": [
    "# going to print my response variable into html format\n",
    "response.text"
   ]
  },
  {
   "cell_type": "code",
   "execution_count": null,
   "metadata": {},
   "outputs": [],
   "source": [
    "#using beautiful soup's builtin function to further search all a tags\n",
    "from bs4 import BeautifulSoup\n",
    "\n",
    "soup = BeautifulSoup(response.text)\n",
    "\n",
    "print(soup)"
   ]
  },
  {
   "cell_type": "code",
   "execution_count": null,
   "metadata": {},
   "outputs": [],
   "source": [
    "soup.find_all('a')"
   ]
  },
  {
   "cell_type": "code",
   "execution_count": null,
   "metadata": {},
   "outputs": [],
   "source": [
    "links = soup.find_all('table')\n",
    "\n",
    "for link in links:\n",
    "    print(link.text)"
   ]
  },
  {
   "cell_type": "code",
   "execution_count": null,
   "metadata": {},
   "outputs": [],
   "source": [
    "\n",
    "scrape_flu = pd.read_html('https://www.cdc.gov/flu/weekly/index.htm')[0]\n",
    "\n",
    "\n",
    "scrape_flu.to_csv('covid_deaths_peek', index=True)\n",
    "\n",
    "scrape_flu\n"
   ]
  },
  {
   "cell_type": "code",
   "execution_count": 1,
   "metadata": {},
   "outputs": [
    {
     "ename": "SyntaxError",
     "evalue": "invalid syntax (<ipython-input-1-10ba223fff24>, line 1)",
     "output_type": "error",
     "traceback": [
      "\u001b[0;36m  File \u001b[0;32m\"<ipython-input-1-10ba223fff24>\"\u001b[0;36m, line \u001b[0;32m1\u001b[0m\n\u001b[0;31m    Bibliography:\u001b[0m\n\u001b[0m                 ^\u001b[0m\n\u001b[0;31mSyntaxError\u001b[0m\u001b[0;31m:\u001b[0m invalid syntax\n"
     ]
    }
   ],
   "source": [
    "Bibliography:\n",
    "    https://www.thetimes.co.uk/article/true-uk-coronavirus-death-figure-is-over-55-000-new-modelling-suggests-jtlfscw2b\n",
    "        https://africanarguments.org/2020/05/10/coronavirus-in-africa-tracker-how-many-cases-and-where-latest/\n",
    "            https://en.wikipedia.org/wiki/COVID-19_pandemic_in_Antarctica\n",
    "                https://www.statista.com/statistics/1103965/latin-america-caribbean-coronavirus-deaths/\n",
    "                    https://www.google.com/search?q=covid+deaths+in+australia&rlz=1C5CHFA_enUS851US852&oq=covid+deaths+in+australia&aqs=chrome..69i57.4763j1j7&sourceid=chrome&ie=UTF-8"
   ]
  },
  {
   "cell_type": "code",
   "execution_count": null,
   "metadata": {},
   "outputs": [],
   "source": []
  }
 ],
 "metadata": {
  "kernelspec": {
   "display_name": "Python 3",
   "language": "python",
   "name": "python3"
  },
  "language_info": {
   "codemirror_mode": {
    "name": "ipython",
    "version": 3
   },
   "file_extension": ".py",
   "mimetype": "text/x-python",
   "name": "python",
   "nbconvert_exporter": "python",
   "pygments_lexer": "ipython3",
   "version": "3.7.4"
  }
 },
 "nbformat": 4,
 "nbformat_minor": 2
}
